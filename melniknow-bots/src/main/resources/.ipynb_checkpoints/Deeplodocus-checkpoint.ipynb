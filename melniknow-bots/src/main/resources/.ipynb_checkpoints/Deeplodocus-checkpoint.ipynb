{
 "cells": [
  {
   "cell_type": "markdown",
   "id": "ee883b7804e5b6be",
   "metadata": {},
   "source": [
    "# Deeplodocus\n",
    "\n",
    "Проект по обучению моделей игре в шахматы\n",
    "\n",
    "\n",
    "<p style=\"text-align:center;\"><img src=\"logo.png\" alt=\"drawing\" width=\"200\"/></p>"
   ]
  },
  {
   "cell_type": "markdown",
   "id": "0d491694",
   "metadata": {},
   "source": [
    "## Stockfish"
   ]
  },
  {
   "cell_type": "code",
   "execution_count": 10,
   "id": "da6247c7",
   "metadata": {},
   "outputs": [],
   "source": [
    "import stockfish\n",
    "\n",
    "stockfishEngine = stockfish.Stockfish(path=\"/home/sergey/stockfish/stockfish-ubuntu-x86-64-avx2\")\n",
    "stockfishEngine.set_elo_rating(1400)"
   ]
  },
  {
   "cell_type": "markdown",
   "id": "5a0a3447",
   "metadata": {},
   "source": [
    "## Deeplodocus engine"
   ]
  },
  {
   "cell_type": "code",
   "execution_count": 11,
   "id": "938cca4a",
   "metadata": {},
   "outputs": [],
   "source": [
    "class Deeplodocus:\n",
    "    @staticmethod\n",
    "    def get_best_move(fen):\n",
    "        return \"e2e4\""
   ]
  },
  {
   "cell_type": "markdown",
   "id": "a51e9b7f0e52f523",
   "metadata": {},
   "source": [
    "## Dto\n",
    "\n",
    "Класс для хранения dto-классов"
   ]
  },
  {
   "cell_type": "code",
   "execution_count": 12,
   "id": "8001e59e",
   "metadata": {
    "ExecuteTime": {
     "end_time": "2023-08-27T08:16:59.993875169Z",
     "start_time": "2023-08-27T08:16:59.796242854Z"
    }
   },
   "outputs": [],
   "source": [
    "class Dto:\n",
    "    class ServerResponse:\n",
    "        def __init__(self, move):\n",
    "            self.move = move\n",
    "\n",
    "    class ServerRequest:\n",
    "        def __init__(self, fen, algorithm):\n",
    "            self.fen = fen\n",
    "            self.algorithm = algorithm"
   ]
  },
  {
   "cell_type": "markdown",
   "id": "ab168b4b7dea6569",
   "metadata": {},
   "source": [
    "## AiRunner\n",
    "\n",
    "Класс для запуска определённой модели по её имени"
   ]
  },
  {
   "cell_type": "code",
   "execution_count": 13,
   "id": "bb9772c0",
   "metadata": {
    "ExecuteTime": {
     "end_time": "2023-08-27T08:17:00.763099518Z",
     "start_time": "2023-08-27T08:17:00.760525718Z"
    }
   },
   "outputs": [],
   "source": [
    "class AiRunner:\n",
    "    @staticmethod\n",
    "    def run(server_request):\n",
    "        print(\"ai runner alg:\", server_request.algorithm)\n",
    "        print(\"ai runner: fen\", server_request.fen)\n",
    "        \n",
    "        if str(server_request.algorithm) == \"STOCKFISH\":\n",
    "            print(\"run STOCKFISH\")\n",
    "            print(stockfishEngine.is_fen_valid(server_request.fen))\n",
    "            \n",
    "            stockfishEngine.set_fen_position(server_request.fen)\n",
    "            return Dto.ServerResponse(stockfishEngine.get_best_move())\n",
    "        elif str(server_request.algorithm) == \"DEEPLODOCUS\":\n",
    "            return Dto.ServerResponse(Deeplodocus.get_best_move(server_request.fen))"
   ]
  },
  {
   "cell_type": "markdown",
   "id": "962155aa9ce229",
   "metadata": {},
   "source": [
    "## Server\n",
    "\n",
    "Класс для запуска локального сервера\n"
   ]
  },
  {
   "cell_type": "code",
   "execution_count": 14,
   "id": "86c2cce7",
   "metadata": {
    "ExecuteTime": {
     "end_time": "2023-08-27T08:17:01.492334312Z",
     "start_time": "2023-08-27T08:17:01.485475218Z"
    }
   },
   "outputs": [],
   "source": [
    "import socket\n",
    "import json\n",
    "\n",
    "\n",
    "class Server:\n",
    "    HOSTNAME = \"localhost\"\n",
    "    PORT = 6671\n",
    "\n",
    "    def __init__(self):\n",
    "        self.server = socket.socket()\n",
    "        self.server.setsockopt(socket.SOL_SOCKET, socket.SO_REUSEADDR, 1)\n",
    "\n",
    "    def run(self):\n",
    "        try:\n",
    "            self.server.bind((self.HOSTNAME, self.PORT))\n",
    "            self.server.listen()\n",
    "\n",
    "            print(\"server starts\")\n",
    "            while True:\n",
    "                con, addr = self.server.accept()\n",
    "                json_str = con.recv(1024).decode('utf-8').replace('\\n', '')\n",
    "\n",
    "                print(\"server get data:\", json_str)\n",
    "                temp_obj = json.loads(json_str)\n",
    "\n",
    "                server_req = Dto.ServerRequest(**temp_obj)\n",
    "                server_res = AiRunner.run(server_req)\n",
    "\n",
    "                message = json.dumps(server_res.__dict__)\n",
    "                con.send(message.encode())\n",
    "\n",
    "                print(\"server send message:\", message)\n",
    "                con.close()\n",
    "        finally:\n",
    "            self.server.close()\n",
    "            print(\"server close\")"
   ]
  },
  {
   "cell_type": "markdown",
   "id": "5a38dc89e251fa63",
   "metadata": {},
   "source": [
    "## Запуск сервера"
   ]
  },
  {
   "cell_type": "code",
   "execution_count": 15,
   "id": "733a94a20da15ef6",
   "metadata": {
    "ExecuteTime": {
     "end_time": "2023-08-27T08:17:02.263361031Z",
     "start_time": "2023-08-27T08:17:02.258678587Z"
    }
   },
   "outputs": [
    {
     "name": "stdout",
     "output_type": "stream",
     "text": [
      "server starts\n",
      "server close\n"
     ]
    },
    {
     "ename": "KeyboardInterrupt",
     "evalue": "",
     "output_type": "error",
     "traceback": [
      "\u001b[0;31m---------------------------------------------------------------------------\u001b[0m",
      "\u001b[0;31mKeyboardInterrupt\u001b[0m                         Traceback (most recent call last)",
      "\u001b[0;32m/tmp/ipykernel_32891/1827424082.py\u001b[0m in \u001b[0;36m<module>\u001b[0;34m\u001b[0m\n\u001b[0;32m----> 1\u001b[0;31m \u001b[0mServer\u001b[0m\u001b[0;34m(\u001b[0m\u001b[0;34m)\u001b[0m\u001b[0;34m.\u001b[0m\u001b[0mrun\u001b[0m\u001b[0;34m(\u001b[0m\u001b[0;34m)\u001b[0m\u001b[0;34m\u001b[0m\u001b[0;34m\u001b[0m\u001b[0m\n\u001b[0m",
      "\u001b[0;32m/tmp/ipykernel_32891/1316195655.py\u001b[0m in \u001b[0;36mrun\u001b[0;34m(self)\u001b[0m\n\u001b[1;32m     18\u001b[0m             \u001b[0mprint\u001b[0m\u001b[0;34m(\u001b[0m\u001b[0;34m\"server starts\"\u001b[0m\u001b[0;34m)\u001b[0m\u001b[0;34m\u001b[0m\u001b[0;34m\u001b[0m\u001b[0m\n\u001b[1;32m     19\u001b[0m             \u001b[0;32mwhile\u001b[0m \u001b[0;32mTrue\u001b[0m\u001b[0;34m:\u001b[0m\u001b[0;34m\u001b[0m\u001b[0;34m\u001b[0m\u001b[0m\n\u001b[0;32m---> 20\u001b[0;31m                 \u001b[0mcon\u001b[0m\u001b[0;34m,\u001b[0m \u001b[0maddr\u001b[0m \u001b[0;34m=\u001b[0m \u001b[0mself\u001b[0m\u001b[0;34m.\u001b[0m\u001b[0mserver\u001b[0m\u001b[0;34m.\u001b[0m\u001b[0maccept\u001b[0m\u001b[0;34m(\u001b[0m\u001b[0;34m)\u001b[0m\u001b[0;34m\u001b[0m\u001b[0;34m\u001b[0m\u001b[0m\n\u001b[0m\u001b[1;32m     21\u001b[0m                 \u001b[0mjson_str\u001b[0m \u001b[0;34m=\u001b[0m \u001b[0mcon\u001b[0m\u001b[0;34m.\u001b[0m\u001b[0mrecv\u001b[0m\u001b[0;34m(\u001b[0m\u001b[0;36m1024\u001b[0m\u001b[0;34m)\u001b[0m\u001b[0;34m.\u001b[0m\u001b[0mdecode\u001b[0m\u001b[0;34m(\u001b[0m\u001b[0;34m'utf-8'\u001b[0m\u001b[0;34m)\u001b[0m\u001b[0;34m.\u001b[0m\u001b[0mreplace\u001b[0m\u001b[0;34m(\u001b[0m\u001b[0;34m'\\n'\u001b[0m\u001b[0;34m,\u001b[0m \u001b[0;34m''\u001b[0m\u001b[0;34m)\u001b[0m\u001b[0;34m\u001b[0m\u001b[0;34m\u001b[0m\u001b[0m\n\u001b[1;32m     22\u001b[0m \u001b[0;34m\u001b[0m\u001b[0m\n",
      "\u001b[0;32m/usr/lib/python3.10/socket.py\u001b[0m in \u001b[0;36maccept\u001b[0;34m(self)\u001b[0m\n\u001b[1;32m    291\u001b[0m         \u001b[0mFor\u001b[0m \u001b[0mIP\u001b[0m \u001b[0msockets\u001b[0m\u001b[0;34m,\u001b[0m \u001b[0mthe\u001b[0m \u001b[0maddress\u001b[0m \u001b[0minfo\u001b[0m \u001b[0;32mis\u001b[0m \u001b[0ma\u001b[0m \u001b[0mpair\u001b[0m \u001b[0;34m(\u001b[0m\u001b[0mhostaddr\u001b[0m\u001b[0;34m,\u001b[0m \u001b[0mport\u001b[0m\u001b[0;34m)\u001b[0m\u001b[0;34m.\u001b[0m\u001b[0;34m\u001b[0m\u001b[0;34m\u001b[0m\u001b[0m\n\u001b[1;32m    292\u001b[0m         \"\"\"\n\u001b[0;32m--> 293\u001b[0;31m         \u001b[0mfd\u001b[0m\u001b[0;34m,\u001b[0m \u001b[0maddr\u001b[0m \u001b[0;34m=\u001b[0m \u001b[0mself\u001b[0m\u001b[0;34m.\u001b[0m\u001b[0m_accept\u001b[0m\u001b[0;34m(\u001b[0m\u001b[0;34m)\u001b[0m\u001b[0;34m\u001b[0m\u001b[0;34m\u001b[0m\u001b[0m\n\u001b[0m\u001b[1;32m    294\u001b[0m         \u001b[0msock\u001b[0m \u001b[0;34m=\u001b[0m \u001b[0msocket\u001b[0m\u001b[0;34m(\u001b[0m\u001b[0mself\u001b[0m\u001b[0;34m.\u001b[0m\u001b[0mfamily\u001b[0m\u001b[0;34m,\u001b[0m \u001b[0mself\u001b[0m\u001b[0;34m.\u001b[0m\u001b[0mtype\u001b[0m\u001b[0;34m,\u001b[0m \u001b[0mself\u001b[0m\u001b[0;34m.\u001b[0m\u001b[0mproto\u001b[0m\u001b[0;34m,\u001b[0m \u001b[0mfileno\u001b[0m\u001b[0;34m=\u001b[0m\u001b[0mfd\u001b[0m\u001b[0;34m)\u001b[0m\u001b[0;34m\u001b[0m\u001b[0;34m\u001b[0m\u001b[0m\n\u001b[1;32m    295\u001b[0m         \u001b[0;31m# Issue #7995: if no default timeout is set and the listening\u001b[0m\u001b[0;34m\u001b[0m\u001b[0;34m\u001b[0m\u001b[0m\n",
      "\u001b[0;31mKeyboardInterrupt\u001b[0m: "
     ]
    }
   ],
   "source": [
    "Server().run()"
   ]
  },
  {
   "cell_type": "code",
   "execution_count": null,
   "id": "4020b500",
   "metadata": {},
   "outputs": [],
   "source": []
  }
 ],
 "metadata": {
  "kernelspec": {
   "display_name": "Python 3 (ipykernel)",
   "language": "python",
   "name": "python3"
  },
  "language_info": {
   "codemirror_mode": {
    "name": "ipython",
    "version": 3
   },
   "file_extension": ".py",
   "mimetype": "text/x-python",
   "name": "python",
   "nbconvert_exporter": "python",
   "pygments_lexer": "ipython3",
   "version": "3.10.12"
  }
 },
 "nbformat": 4,
 "nbformat_minor": 5
}
